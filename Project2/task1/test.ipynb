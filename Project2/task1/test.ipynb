{
 "cells": [
  {
   "cell_type": "code",
   "execution_count": null,
   "id": "initial_id",
   "metadata": {
    "collapsed": true
   },
   "outputs": [],
   "source": [
    ""
   ]
  },
  {
   "metadata": {
    "ExecuteTime": {
     "end_time": "2024-11-11T14:22:34.162346Z",
     "start_time": "2024-11-11T14:19:44.669172Z"
    }
   },
   "cell_type": "code",
   "source": [
    "from sklearn.model_selection import train_test_split\n",
    "from sklearn.preprocessing import StandardScaler\n",
    "from sklearn.svm import SVC\n",
    "from sklearn.metrics import accuracy_score\n",
    "import util\n",
    "\n",
    "X = util.load_data('classification_train_data.pkl')\n",
    "y = util.load_data('classification_train_label.pkl')\n",
    "X = X[:, 1:]\n",
    "y = y[:, 1:].reshape(-1)\n",
    "\n",
    "X_train, X_test, y_train, y_test = train_test_split(X, y, test_size=0.2, random_state=42)\n",
    "svm_clf = SVC(kernel='rbf', gamma='scale', C=1.0, verbose=True, max_iter=1000)\n",
    "svm_clf.fit(X_train, y_train)\n",
    "util.save_data('classification_svm_model.pkl', svm_clf)\n",
    "y_pred = svm_clf.predict(X_test)\n",
    "print(accuracy_score(y_test, y_pred))\n"
   ],
   "id": "64693462bf094683",
   "outputs": [
    {
     "name": "stdout",
     "output_type": "stream",
     "text": [
      "[LibSVM]"
     ]
    },
    {
     "name": "stderr",
     "output_type": "stream",
     "text": [
      "E:\\Users\\Eric\\PycharmProjects\\CS303\\.venv\\Lib\\site-packages\\sklearn\\svm\\_base.py:297: ConvergenceWarning: Solver terminated early (max_iter=1000).  Consider pre-processing your data with StandardScaler or MinMaxScaler.\n",
      "  warnings.warn(\n"
     ]
    },
    {
     "name": "stdout",
     "output_type": "stream",
     "text": [
      "Saved successfully\n",
      "0.19667867146858745\n"
     ]
    }
   ],
   "execution_count": 2
  },
  {
   "metadata": {
    "ExecuteTime": {
     "end_time": "2024-11-11T14:25:48.572808Z",
     "start_time": "2024-11-11T14:23:15.440903Z"
    }
   },
   "cell_type": "code",
   "source": [
    "from sklearn.model_selection import train_test_split\n",
    "from sklearn.preprocessing import StandardScaler\n",
    "from sklearn.svm import SVC\n",
    "from sklearn.metrics import accuracy_score\n",
    "import util\n",
    "\n",
    "X = util.load_data('classification_train_data.pkl')\n",
    "y = util.load_data('classification_train_label.pkl')\n",
    "X = X[:, 1:]\n",
    "y = y[:, 1:].reshape(-1)\n",
    "scaler = StandardScaler()\n",
    "scaler.fit(X)\n",
    "util.save_data('classification_scaler.pkl', scaler)\n",
    "\n",
    "X = scaler.transform(X)\n",
    "X_train, X_test, y_train, y_test = train_test_split(X, y, test_size=0.2, random_state=42)\n",
    "svm_clf = SVC(kernel='rbf', gamma='scale', C=1.0, verbose=True, max_iter=1000)\n",
    "svm_clf.fit(X_train, y_train)\n",
    "util.save_data('classification_svm_model.pkl', svm_clf)\n",
    "y_pred = svm_clf.predict(X_test)\n",
    "print(accuracy_score(y_test, y_pred))"
   ],
   "id": "77be0f86532799cf",
   "outputs": [
    {
     "name": "stdout",
     "output_type": "stream",
     "text": [
      "Saved successfully\n",
      "[LibSVM]"
     ]
    },
    {
     "name": "stderr",
     "output_type": "stream",
     "text": [
      "E:\\Users\\Eric\\PycharmProjects\\CS303\\.venv\\Lib\\site-packages\\sklearn\\svm\\_base.py:297: ConvergenceWarning: Solver terminated early (max_iter=1000).  Consider pre-processing your data with StandardScaler or MinMaxScaler.\n",
      "  warnings.warn(\n"
     ]
    },
    {
     "name": "stdout",
     "output_type": "stream",
     "text": [
      "Saved successfully\n",
      "0.5190076030412165\n"
     ]
    }
   ],
   "execution_count": 3
  }
 ],
 "metadata": {
  "kernelspec": {
   "display_name": "Python 3",
   "language": "python",
   "name": "python3"
  },
  "language_info": {
   "codemirror_mode": {
    "name": "ipython",
    "version": 2
   },
   "file_extension": ".py",
   "mimetype": "text/x-python",
   "name": "python",
   "nbconvert_exporter": "python",
   "pygments_lexer": "ipython2",
   "version": "2.7.6"
  }
 },
 "nbformat": 4,
 "nbformat_minor": 5
}
