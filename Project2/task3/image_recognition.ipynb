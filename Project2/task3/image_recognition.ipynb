{
 "cells": [
  {
   "cell_type": "code",
   "metadata": {
    "ExecuteTime": {
     "end_time": "2024-11-10T11:49:34.427829Z",
     "start_time": "2024-11-10T11:49:34.010141Z"
    }
   },
   "source": [
    "import numpy as np\n",
    "import util\n",
    "from SoftmaxRegression import SoftmaxRegression"
   ],
   "outputs": [],
   "execution_count": 1
  },
  {
   "cell_type": "markdown",
   "metadata": {},
   "source": [
    "## 1. Data Loading"
   ]
  },
  {
   "cell_type": "code",
   "metadata": {
    "ExecuteTime": {
     "end_time": "2024-11-10T11:50:28.414974Z",
     "start_time": "2024-11-10T11:50:25.192924Z"
    }
   },
   "source": [
    "validation_data = util.load_data(\"classification_validation_data.pkl\")\n",
    "validation_label = util.load_data(\"classification_validation_label.pkl\")"
   ],
   "outputs": [],
   "execution_count": 10
  },
  {
   "cell_type": "markdown",
   "metadata": {},
   "source": [
    "## 2. Data Preprocessing"
   ]
  },
  {
   "cell_type": "code",
   "metadata": {
    "ExecuteTime": {
     "end_time": "2024-11-10T11:50:43.647378Z",
     "start_time": "2024-11-10T11:50:33.332876Z"
    }
   },
   "source": [
    "# remove index column\n",
    "validation_data = validation_data[:, 1:]\n",
    "validation_label = validation_label[:, 1:].reshape(-1)"
   ],
   "outputs": [],
   "execution_count": 11
  },
  {
   "cell_type": "code",
   "metadata": {
    "ExecuteTime": {
     "end_time": "2024-11-10T11:49:39.110578Z",
     "start_time": "2024-11-10T11:49:39.105152Z"
    }
   },
   "source": [
    "validation_data.shape, validation_label.shape"
   ],
   "outputs": [
    {
     "data": {
      "text/plain": [
       "((9996, 256), (9996,))"
      ]
     },
     "execution_count": 4,
     "metadata": {},
     "output_type": "execute_result"
    }
   ],
   "execution_count": 4
  },
  {
   "cell_type": "code",
   "metadata": {
    "ExecuteTime": {
     "end_time": "2024-11-10T11:51:02.430372Z",
     "start_time": "2024-11-10T11:51:02.420099Z"
    }
   },
   "source": [
    "# label one-hot encoding\n",
    "num_classes =  10 \n",
    "validation_label = np.eye(num_classes)[validation_label]\n",
    "print(\"train label shape:\", validation_label.shape)"
   ],
   "outputs": [
    {
     "ename": "IndexError",
     "evalue": "arrays used as indices must be of integer (or boolean) type",
     "output_type": "error",
     "traceback": [
      "\u001B[1;31m---------------------------------------------------------------------------\u001B[0m",
      "\u001B[1;31mIndexError\u001B[0m                                Traceback (most recent call last)",
      "Cell \u001B[1;32mIn[13], line 3\u001B[0m\n\u001B[0;32m      1\u001B[0m \u001B[38;5;66;03m# label one-hot encoding\u001B[39;00m\n\u001B[0;32m      2\u001B[0m num_classes \u001B[38;5;241m=\u001B[39m  \u001B[38;5;241m10\u001B[39m \n\u001B[1;32m----> 3\u001B[0m validation_label \u001B[38;5;241m=\u001B[39m \u001B[43mnp\u001B[49m\u001B[38;5;241;43m.\u001B[39;49m\u001B[43meye\u001B[49m\u001B[43m(\u001B[49m\u001B[43mnum_classes\u001B[49m\u001B[43m)\u001B[49m\u001B[43m[\u001B[49m\u001B[43mvalidation_label\u001B[49m\u001B[43m]\u001B[49m\n\u001B[0;32m      4\u001B[0m \u001B[38;5;28mprint\u001B[39m(\u001B[38;5;124m\"\u001B[39m\u001B[38;5;124mtrain label shape:\u001B[39m\u001B[38;5;124m\"\u001B[39m, validation_label\u001B[38;5;241m.\u001B[39mshape)\n",
      "\u001B[1;31mIndexError\u001B[0m: arrays used as indices must be of integer (or boolean) type"
     ]
    }
   ],
   "execution_count": 13
  },
  {
   "cell_type": "markdown",
   "metadata": {},
   "source": [
    "## 3. Model"
   ]
  },
  {
   "cell_type": "code",
   "metadata": {
    "ExecuteTime": {
     "end_time": "2024-11-10T11:51:05.585643Z",
     "start_time": "2024-11-10T11:51:05.579342Z"
    }
   },
   "source": [
    "linear_model = SoftmaxRegression(\n",
    "    num_classes=num_classes,\n",
    "    learning_rate=0.1,\n",
    "    num_iterations=10000,\n",
    "    random_seed=123)\n",
    "# no training, directly fix the weights \n",
    "linear_model.weights = util.load_data('image_recognition_model_weights.pkl')"
   ],
   "outputs": [],
   "execution_count": 15
  },
  {
   "cell_type": "markdown",
   "metadata": {},
   "source": [
    "## 4. Predict"
   ]
  },
  {
   "cell_type": "code",
   "metadata": {
    "ExecuteTime": {
     "end_time": "2024-11-10T11:51:08.615526Z",
     "start_time": "2024-11-10T11:51:08.603235Z"
    }
   },
   "source": [
    "# mask\n",
    "mask_code = util.load_data(\"./mask_code.pkl\")\n",
    "mask_code"
   ],
   "outputs": [
    {
     "data": {
      "text/plain": [
       "array([[0., 0., 0., 0., 0., 0., 1., 0., 0., 1., 1., 0., 0., 0., 0., 1.,\n",
       "        0., 0., 0., 1., 0., 0., 0., 0., 1., 0., 0., 0., 0., 0., 1., 0.,\n",
       "        0., 1., 0., 0., 0., 0., 0., 0., 0., 0., 0., 0., 0., 0., 0., 0.,\n",
       "        0., 0., 0., 0., 0., 0., 0., 0., 0., 0., 0., 0., 0., 0., 0., 0.,\n",
       "        0., 0., 0., 0., 1., 0., 0., 0., 0., 0., 0., 0., 0., 0., 0., 1.,\n",
       "        0., 0., 0., 0., 0., 0., 0., 0., 0., 0., 0., 0., 0., 0., 0., 0.,\n",
       "        1., 0., 0., 0., 0., 0., 0., 0., 0., 0., 0., 0., 0., 0., 0., 0.,\n",
       "        0., 0., 0., 0., 0., 1., 0., 0., 1., 0., 0., 0., 1., 0., 0., 0.,\n",
       "        0., 0., 0., 0., 0., 0., 0., 0., 1., 0., 0., 0., 0., 0., 0., 0.,\n",
       "        0., 0., 0., 0., 0., 0., 0., 0., 1., 0., 0., 0., 0., 0., 0., 0.,\n",
       "        0., 0., 0., 0., 1., 0., 0., 1., 0., 0., 0., 0., 0., 0., 0., 0.,\n",
       "        0., 0., 0., 0., 1., 0., 0., 0., 0., 1., 0., 0., 0., 0., 0., 0.,\n",
       "        0., 0., 0., 0., 0., 0., 0., 1., 0., 0., 0., 0., 0., 0., 1., 0.,\n",
       "        1., 0., 0., 0., 0., 0., 0., 0., 0., 1., 0., 0., 0., 0., 1., 0.,\n",
       "        0., 0., 0., 0., 1., 0., 1., 0., 0., 0., 0., 1., 0., 0., 0., 0.,\n",
       "        0., 0., 1., 0., 0., 0., 0., 0., 0., 0., 0., 0., 0., 1., 0., 0.]])"
      ]
     },
     "execution_count": 16,
     "metadata": {},
     "output_type": "execute_result"
    }
   ],
   "execution_count": 16
  },
  {
   "cell_type": "code",
   "metadata": {
    "ExecuteTime": {
     "end_time": "2024-11-10T11:52:31.385825Z",
     "start_time": "2024-11-10T11:52:31.373466Z"
    }
   },
   "source": [
    "# mask feature\n",
    "mask_validation_data = validation_data * mask_code"
   ],
   "outputs": [],
   "execution_count": 20
  },
  {
   "cell_type": "code",
   "metadata": {
    "ExecuteTime": {
     "end_time": "2024-11-10T11:52:48.629311Z",
     "start_time": "2024-11-10T11:52:48.617626Z"
    }
   },
   "source": [
    "# Predict\n",
    "val_pred = linear_model.predict(mask_validation_data)\n",
    "# Calculate validation accuracy\n",
    "val_accuracy = np.mean(val_pred == np.argmax(validation_label, axis=1))"
   ],
   "outputs": [],
   "execution_count": 23
  },
  {
   "cell_type": "code",
   "metadata": {
    "ExecuteTime": {
     "end_time": "2024-11-10T11:52:50.535580Z",
     "start_time": "2024-11-10T11:52:50.531377Z"
    }
   },
   "source": [
    "print(val_accuracy)"
   ],
   "outputs": [
    {
     "name": "stdout",
     "output_type": "stream",
     "text": [
      "0.16486594637855143\n"
     ]
    }
   ],
   "execution_count": 24
  }
 ],
 "metadata": {
  "kernelspec": {
   "display_name": "Python 3 (ipykernel)",
   "language": "python",
   "name": "python3"
  },
  "language_info": {
   "codemirror_mode": {
    "name": "ipython",
    "version": 3
   },
   "file_extension": ".py",
   "mimetype": "text/x-python",
   "name": "python",
   "nbconvert_exporter": "python",
   "pygments_lexer": "ipython3",
   "version": "3.10.8"
  }
 },
 "nbformat": 4,
 "nbformat_minor": 4
}
