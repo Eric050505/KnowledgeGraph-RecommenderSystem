{
 "cells": [
  {
   "metadata": {
    "ExecuteTime": {
     "end_time": "2024-11-10T11:38:51.425779Z",
     "start_time": "2024-11-10T11:38:51.048284Z"
    }
   },
   "cell_type": "code",
   "source": [
    "import numpy as np\n",
    "import util"
   ],
   "outputs": [],
   "execution_count": 1
  },
  {
   "cell_type": "markdown",
   "metadata": {},
   "source": [
    "## 1. Data Loading"
   ]
  },
  {
   "cell_type": "code",
   "metadata": {
    "ExecuteTime": {
     "end_time": "2024-11-10T11:38:54.288638Z",
     "start_time": "2024-11-10T11:38:54.272286Z"
    }
   },
   "source": [
    "validation_data = util.load_data(\"classification_validation_data.pkl\")\n",
    "validation_label = util.load_data(\"classification_validation_label.pkl\")"
   ],
   "outputs": [],
   "execution_count": 2
  },
  {
   "cell_type": "code",
   "metadata": {
    "ExecuteTime": {
     "end_time": "2024-11-10T11:38:55.419290Z",
     "start_time": "2024-11-10T11:38:55.414263Z"
    }
   },
   "source": [
    "# remove index column\n",
    "train_data_index = validation_data[:, 0]\n",
    "train_label_index = validation_label[:, 0]\n",
    "validation_data = validation_data[:, 1:]\n",
    "validation_label = validation_label[:, 1:].reshape(-1)"
   ],
   "outputs": [],
   "execution_count": 3
  },
  {
   "cell_type": "code",
   "metadata": {
    "ExecuteTime": {
     "end_time": "2024-11-10T11:38:56.509674Z",
     "start_time": "2024-11-10T11:38:56.502394Z"
    }
   },
   "source": [
    "validation_data.shape, validation_label.shape"
   ],
   "outputs": [
    {
     "data": {
      "text/plain": [
       "((9996, 256), (9996,))"
      ]
     },
     "execution_count": 4,
     "metadata": {},
     "output_type": "execute_result"
    }
   ],
   "execution_count": 4
  },
  {
   "cell_type": "code",
   "metadata": {
    "ExecuteTime": {
     "end_time": "2024-11-10T11:38:57.945570Z",
     "start_time": "2024-11-10T11:38:57.939243Z"
    }
   },
   "source": [
    "train_data_index.shape, train_label_index.shape"
   ],
   "outputs": [
    {
     "data": {
      "text/plain": [
       "((9996,), (9996,))"
      ]
     },
     "execution_count": 5,
     "metadata": {},
     "output_type": "execute_result"
    }
   ],
   "execution_count": 5
  },
  {
   "cell_type": "markdown",
   "metadata": {},
   "source": [
    "## 2. Feature Selection"
   ]
  },
  {
   "cell_type": "code",
   "metadata": {
    "ExecuteTime": {
     "end_time": "2024-11-10T11:39:37.113354Z",
     "start_time": "2024-11-10T11:39:03.259064Z"
    }
   },
   "source": [
    "num_features_to_select = 30\n",
    "\n",
    "\n",
    "# feature index\n",
    "indexs = np.arange(validation_data.shape[1]) \n",
    "\n",
    "# Randomly select 30 features index\n",
    "np.random.seed(42)\n",
    "random_indexs = np.random.choice(indexs, size=30, replace=False)\n",
    "random_indexs"
   ],
   "outputs": [
    {
     "data": {
      "text/plain": [
       "array([228,   6,  79, 206, 117, 185, 242, 167,   9,  30, 180, 222, 230,\n",
       "       217, 136,  68, 199,  15,  96,  24, 235,  19, 120, 152,  33, 124,\n",
       "       253, 208,  10, 164])"
      ]
     },
     "execution_count": 6,
     "metadata": {},
     "output_type": "execute_result"
    }
   ],
   "execution_count": 6
  },
  {
   "cell_type": "code",
   "metadata": {
    "ExecuteTime": {
     "end_time": "2024-11-10T11:39:45.513353Z",
     "start_time": "2024-11-10T11:39:45.500365Z"
    }
   },
   "source": [
    "mask_code = np.zeros((1, validation_data.shape[1]))"
   ],
   "outputs": [],
   "execution_count": 7
  },
  {
   "cell_type": "code",
   "metadata": {
    "ExecuteTime": {
     "end_time": "2024-11-10T11:39:47.368098Z",
     "start_time": "2024-11-10T11:39:47.349580Z"
    }
   },
   "source": [
    "mask_code[0, random_indexs] = 1"
   ],
   "outputs": [],
   "execution_count": 8
  },
  {
   "cell_type": "code",
   "metadata": {
    "ExecuteTime": {
     "end_time": "2024-11-10T11:39:50.219545Z",
     "start_time": "2024-11-10T11:39:50.200778Z"
    }
   },
   "source": [
    "util.save_data(\"./mask_code.pkl\", mask_code)"
   ],
   "outputs": [
    {
     "name": "stdout",
     "output_type": "stream",
     "text": [
      "Saved successfully\n"
     ]
    }
   ],
   "execution_count": 9
  }
 ],
 "metadata": {
  "kernelspec": {
   "display_name": "Python 3 (ipykernel)",
   "language": "python",
   "name": "python3"
  },
  "language_info": {
   "codemirror_mode": {
    "name": "ipython",
    "version": 3
   },
   "file_extension": ".py",
   "mimetype": "text/x-python",
   "name": "python",
   "nbconvert_exporter": "python",
   "pygments_lexer": "ipython3",
   "version": "3.10.8"
  }
 },
 "nbformat": 4,
 "nbformat_minor": 4
}
