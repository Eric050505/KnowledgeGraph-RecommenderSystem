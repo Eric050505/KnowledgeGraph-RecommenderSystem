{
 "cells": [
  {
   "cell_type": "code",
   "id": "de6ce4ae69c72397",
   "metadata": {
    "collapsed": true,
    "ExecuteTime": {
     "end_time": "2024-11-10T10:09:00.791479Z",
     "start_time": "2024-11-10T10:09:00.419871Z"
    }
   },
   "source": [
    "from retrieval import Retrieval\n",
    "import util"
   ],
   "outputs": [],
   "execution_count": 1
  },
  {
   "metadata": {
    "ExecuteTime": {
     "end_time": "2024-11-10T10:09:02.963295Z",
     "start_time": "2024-11-10T10:09:01.623748Z"
    }
   },
   "cell_type": "code",
   "source": [
    "\n",
    "X = util.load_data('image_retrieval_repository_data.pkl')\n",
    "retrieval = Retrieval(None)\n",
    "X = X[:, 1:]\n",
    "y_pred = retrieval.inference(X)\n",
    "print(y_pred)"
   ],
   "id": "initial_id",
   "outputs": [
    {
     "name": "stdout",
     "output_type": "stream",
     "text": [
      "[[   0  723   32 3892 3998]\n",
      " [   1 2854  768 1454 4842]\n",
      " [   2 2904 3063 1216 3115]\n",
      " ...\n",
      " [4997  937 4096 2933 3396]\n",
      " [4998 4480 4746 1297 3011]\n",
      " [4999 2178 2577 2947 2375]]\n"
     ]
    }
   ],
   "execution_count": 2
  },
  {
   "metadata": {},
   "cell_type": "code",
   "outputs": [],
   "execution_count": null,
   "source": "",
   "id": "b554efb040d872d3"
  }
 ],
 "metadata": {
  "kernelspec": {
   "display_name": "Python 3",
   "language": "python",
   "name": "python3"
  },
  "language_info": {
   "codemirror_mode": {
    "name": "ipython",
    "version": 2
   },
   "file_extension": ".py",
   "mimetype": "text/x-python",
   "name": "python",
   "nbconvert_exporter": "python",
   "pygments_lexer": "ipython2",
   "version": "2.7.6"
  }
 },
 "nbformat": 4,
 "nbformat_minor": 5
}
