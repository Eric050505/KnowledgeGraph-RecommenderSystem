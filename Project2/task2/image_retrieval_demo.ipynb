{
 "cells": [
  {
   "cell_type": "code",
   "metadata": {
    "ExecuteTime": {
     "end_time": "2024-11-10T07:22:31.863158Z",
     "start_time": "2024-11-10T07:22:31.332867Z"
    }
   },
   "source": [
    "import numpy as np\n",
    "from sklearn.decomposition import PCA\n",
    "\n",
    "import util\n",
    "from NNS import NNS"
   ],
   "outputs": [],
   "execution_count": 1
  },
  {
   "cell_type": "markdown",
   "metadata": {},
   "source": [
    "## 1. Data Loading"
   ]
  },
  {
   "cell_type": "code",
   "metadata": {
    "ExecuteTime": {
     "end_time": "2024-11-10T07:22:31.873736Z",
     "start_time": "2024-11-10T07:22:31.863629Z"
    }
   },
   "source": "retrieval_repository_data = util.load_data('./image_retrieval_repository_data.pkl')",
   "outputs": [],
   "execution_count": 2
  },
  {
   "metadata": {},
   "cell_type": "markdown",
   "source": ""
  },
  {
   "cell_type": "markdown",
   "metadata": {},
   "source": [
    "## 2. Data Exploration"
   ]
  },
  {
   "cell_type": "code",
   "metadata": {
    "ExecuteTime": {
     "end_time": "2024-11-10T07:22:31.877217Z",
     "start_time": "2024-11-10T07:22:31.873736Z"
    }
   },
   "source": "print(\"Image Retrieval Repository Data Shape:\", retrieval_repository_data.shape)",
   "outputs": [
    {
     "name": "stdout",
     "output_type": "stream",
     "text": [
      "Image Retrieval Repository Data Shape: (5000, 257)\n"
     ]
    }
   ],
   "execution_count": 3
  },
  {
   "cell_type": "markdown",
   "metadata": {},
   "source": [
    "## 3. Data Preprocessing "
   ]
  },
  {
   "cell_type": "code",
   "metadata": {
    "ExecuteTime": {
     "end_time": "2024-11-10T07:23:09.085215Z",
     "start_time": "2024-11-10T07:22:35.201987Z"
    }
   },
   "source": [
    "# remove index column\n",
    "repository_data_index = retrieval_repository_data[:, 0]\n",
    "retrieval_repository_data = retrieval_repository_data[:, 1:]"
   ],
   "outputs": [],
   "execution_count": 4
  },
  {
   "cell_type": "code",
   "metadata": {
    "ExecuteTime": {
     "end_time": "2024-11-10T07:23:12.442462Z",
     "start_time": "2024-11-10T07:23:12.424268Z"
    }
   },
   "source": "repository_data_index.shape",
   "outputs": [
    {
     "data": {
      "text/plain": [
       "(5000,)"
      ]
     },
     "execution_count": 5,
     "metadata": {},
     "output_type": "execute_result"
    }
   ],
   "execution_count": 5
  },
  {
   "cell_type": "code",
   "metadata": {
    "ExecuteTime": {
     "end_time": "2024-11-10T07:23:13.839979Z",
     "start_time": "2024-11-10T07:23:13.820696Z"
    }
   },
   "source": "retrieval_repository_data.shape",
   "outputs": [
    {
     "data": {
      "text/plain": [
       "(5000, 256)"
      ]
     },
     "execution_count": 6,
     "metadata": {},
     "output_type": "execute_result"
    }
   ],
   "execution_count": 6
  },
  {
   "cell_type": "markdown",
   "metadata": {},
   "source": [
    "## 4. Model"
   ]
  },
  {
   "cell_type": "code",
   "metadata": {
    "ExecuteTime": {
     "end_time": "2024-11-10T07:23:16.296511Z",
     "start_time": "2024-11-10T07:23:16.279903Z"
    }
   },
   "source": "nns_model = NNS(k=5)",
   "outputs": [],
   "execution_count": 7
  },
  {
   "cell_type": "markdown",
   "metadata": {},
   "source": [
    "## 5. Train"
   ]
  },
  {
   "cell_type": "code",
   "metadata": {
    "ExecuteTime": {
     "end_time": "2024-11-10T07:27:36.585292Z",
     "start_time": "2024-11-10T07:27:36.581320Z"
    }
   },
   "source": "nns_model.fit(X_train=retrieval_repository_data)",
   "outputs": [],
   "execution_count": 8
  },
  {
   "cell_type": "markdown",
   "metadata": {},
   "source": [
    "## 6. Predict"
   ]
  },
  {
   "cell_type": "code",
   "metadata": {
    "ExecuteTime": {
     "end_time": "2024-11-10T07:27:57.933851Z",
     "start_time": "2024-11-10T07:27:38.566815Z"
    }
   },
   "source": "k_nearest = nns_model.predict(retrieval_repository_data[:1000])",
   "outputs": [
    {
     "name": "stderr",
     "output_type": "stream",
     "text": [
      "100%|██████████| 1000/1000 [00:19<00:00, 51.67it/s]\n"
     ]
    }
   ],
   "execution_count": 9
  },
  {
   "cell_type": "code",
   "metadata": {
    "ExecuteTime": {
     "end_time": "2024-11-10T07:33:11.892985Z",
     "start_time": "2024-11-10T07:33:11.886259Z"
    }
   },
   "source": [
    "k_nearest.shape"
   ],
   "outputs": [
    {
     "data": {
      "text/plain": [
       "(1000, 5)"
      ]
     },
     "execution_count": 13,
     "metadata": {},
     "output_type": "execute_result"
    }
   ],
   "execution_count": 13
  },
  {
   "metadata": {
    "ExecuteTime": {
     "end_time": "2024-11-10T07:36:53.649019Z",
     "start_time": "2024-11-10T07:36:32.380688Z"
    }
   },
   "cell_type": "code",
   "source": "util.save_data('knn.pkl', nns_model)",
   "outputs": [
    {
     "name": "stdout",
     "output_type": "stream",
     "text": [
      "Saved successfully\n"
     ]
    }
   ],
   "execution_count": 25
  },
  {
   "metadata": {
    "ExecuteTime": {
     "end_time": "2024-11-10T08:19:04.981023Z",
     "start_time": "2024-11-10T08:18:59.563130Z"
    }
   },
   "cell_type": "code",
   "source": [
    "from retrieval import Retrieval\n",
    "ret = Retrieval()\n",
    "y_pred = ret.inference(retrieval_repository_data[:1000])\n"
   ],
   "outputs": [
    {
     "name": "stderr",
     "output_type": "stream",
     "text": [
      " 26%|██▌       | 260/1000 [00:05<00:14, 49.76it/s]\n"
     ]
    },
    {
     "ename": "KeyboardInterrupt",
     "evalue": "",
     "output_type": "error",
     "traceback": [
      "\u001B[1;31m---------------------------------------------------------------------------\u001B[0m",
      "\u001B[1;31mKeyboardInterrupt\u001B[0m                         Traceback (most recent call last)",
      "Cell \u001B[1;32mIn[30], line 3\u001B[0m\n\u001B[0;32m      1\u001B[0m \u001B[38;5;28;01mfrom\u001B[39;00m \u001B[38;5;21;01mretrieval\u001B[39;00m \u001B[38;5;28;01mimport\u001B[39;00m Retrieval\n\u001B[0;32m      2\u001B[0m ret \u001B[38;5;241m=\u001B[39m Retrieval()\n\u001B[1;32m----> 3\u001B[0m y_pred \u001B[38;5;241m=\u001B[39m \u001B[43mret\u001B[49m\u001B[38;5;241;43m.\u001B[39;49m\u001B[43minference\u001B[49m\u001B[43m(\u001B[49m\u001B[43mretrieval_repository_data\u001B[49m\u001B[43m[\u001B[49m\u001B[43m:\u001B[49m\u001B[38;5;241;43m1000\u001B[39;49m\u001B[43m]\u001B[49m\u001B[43m)\u001B[49m\n\u001B[0;32m      4\u001B[0m retrieval_repository_data[:\u001B[38;5;241m1000\u001B[39m]\n",
      "File \u001B[1;32mE:\\Users\\Eric\\PycharmProjects\\CS303\\Project\\Project2\\task2\\retrieval.py:24\u001B[0m, in \u001B[0;36mRetrieval.inference\u001B[1;34m(self, X)\u001B[0m\n\u001B[0;32m     12\u001B[0m \u001B[38;5;28;01mdef\u001B[39;00m \u001B[38;5;21minference\u001B[39m(\u001B[38;5;28mself\u001B[39m, X: np\u001B[38;5;241m.\u001B[39marray) \u001B[38;5;241m-\u001B[39m\u001B[38;5;241m>\u001B[39m np\u001B[38;5;241m.\u001B[39marray:\n\u001B[0;32m     13\u001B[0m \u001B[38;5;250m    \u001B[39m\u001B[38;5;124;03m\"\"\"\u001B[39;00m\n\u001B[0;32m     14\u001B[0m \u001B[38;5;124;03m    Find 5 images that are most similar to the given image in the repository\u001B[39;00m\n\u001B[0;32m     15\u001B[0m \u001B[38;5;124;03m    Args:\u001B[39;00m\n\u001B[1;32m   (...)\u001B[0m\n\u001B[0;32m     22\u001B[0m \u001B[38;5;124;03m        similar to the given image in the repository.\u001B[39;00m\n\u001B[0;32m     23\u001B[0m \u001B[38;5;124;03m    \"\"\"\u001B[39;00m\n\u001B[1;32m---> 24\u001B[0m     y_pred \u001B[38;5;241m=\u001B[39m \u001B[38;5;28;43mself\u001B[39;49m\u001B[38;5;241;43m.\u001B[39;49m\u001B[43mknn\u001B[49m\u001B[38;5;241;43m.\u001B[39;49m\u001B[43mpredict\u001B[49m\u001B[43m(\u001B[49m\u001B[43mX\u001B[49m\u001B[43m)\u001B[49m\n\u001B[0;32m     25\u001B[0m     \u001B[38;5;28;01mreturn\u001B[39;00m y_pred\n",
      "File \u001B[1;32mE:\\Users\\Eric\\PycharmProjects\\CS303\\Project\\Project2\\task2\\NNS.py:36\u001B[0m, in \u001B[0;36mpredict\u001B[1;34m(self, X_test)\u001B[0m\n\u001B[0;32m     26\u001B[0m \u001B[38;5;250m\u001B[39m\u001B[38;5;124;03m\"\"\"\u001B[39;00m\n\u001B[0;32m     27\u001B[0m \u001B[38;5;124;03mFind the IDs of the k repository data points that are closest to the test sample points.\u001B[39;00m\n\u001B[0;32m     28\u001B[0m \u001B[38;5;124;03m\u001B[39;00m\n\u001B[1;32m   (...)\u001B[0m\n\u001B[0;32m     33\u001B[0m \u001B[38;5;124;03m- y_pred: IDs of the k repository data points that are closest to the test sample points.\u001B[39;00m\n\u001B[0;32m     34\u001B[0m \u001B[38;5;124;03m\"\"\"\u001B[39;00m\n\u001B[0;32m     35\u001B[0m y_pred \u001B[38;5;241m=\u001B[39m []\n\u001B[1;32m---> 36\u001B[0m \u001B[38;5;28;01mfor\u001B[39;00m x \u001B[38;5;129;01min\u001B[39;00m tqdm(X_test):\n\u001B[0;32m     37\u001B[0m     k_indices \u001B[38;5;241m=\u001B[39m \u001B[38;5;28mself\u001B[39m\u001B[38;5;241m.\u001B[39m_predict(x)\n\u001B[0;32m     38\u001B[0m     y_pred\u001B[38;5;241m.\u001B[39mappend(k_indices)\n",
      "File \u001B[1;32mE:\\Users\\Eric\\PycharmProjects\\CS303\\Project\\Project2\\task2\\NNS.py:51\u001B[0m, in \u001B[0;36m_predict\u001B[1;34m(self, x)\u001B[0m\n\u001B[0;32m     41\u001B[0m \u001B[38;5;28;01mdef\u001B[39;00m \u001B[38;5;21m_predict\u001B[39m(\u001B[38;5;28mself\u001B[39m, x):\n\u001B[0;32m     42\u001B[0m \u001B[38;5;250m    \u001B[39m\u001B[38;5;124;03m\"\"\"\u001B[39;00m\n\u001B[0;32m     43\u001B[0m \u001B[38;5;124;03m    Find the IDs of the k repository data points that are closest to the single test data point.\u001B[39;00m\n\u001B[0;32m     44\u001B[0m \n\u001B[1;32m   (...)\u001B[0m\n\u001B[0;32m     49\u001B[0m \u001B[38;5;124;03m    - k_indices: IDs of the k repository data points that are closest to the test sample point.\u001B[39;00m\n\u001B[0;32m     50\u001B[0m \u001B[38;5;124;03m    \"\"\"\u001B[39;00m\n\u001B[1;32m---> 51\u001B[0m     distances \u001B[38;5;241m=\u001B[39m [np\u001B[38;5;241m.\u001B[39msum((x \u001B[38;5;241m-\u001B[39m x_train) \u001B[38;5;241m*\u001B[39m\u001B[38;5;241m*\u001B[39m \u001B[38;5;241m2\u001B[39m) \u001B[38;5;28;01mfor\u001B[39;00m x_train \u001B[38;5;129;01min\u001B[39;00m \u001B[38;5;28mself\u001B[39m\u001B[38;5;241m.\u001B[39mX_train]\n\u001B[0;32m     52\u001B[0m     k_indices \u001B[38;5;241m=\u001B[39m np\u001B[38;5;241m.\u001B[39margsort(distances)[:\u001B[38;5;28mself\u001B[39m\u001B[38;5;241m.\u001B[39mk]\n\u001B[0;32m     53\u001B[0m     \u001B[38;5;28;01mreturn\u001B[39;00m k_indices\n",
      "File \u001B[1;32mE:\\Users\\Eric\\PycharmProjects\\CS303\\.venv\\Lib\\site-packages\\numpy\\core\\fromnumeric.py:1133\u001B[0m, in \u001B[0;36margsort\u001B[1;34m(a, axis, kind, order)\u001B[0m\n\u001B[0;32m   1025\u001B[0m \u001B[38;5;129m@array_function_dispatch\u001B[39m(_argsort_dispatcher)\n\u001B[0;32m   1026\u001B[0m \u001B[38;5;28;01mdef\u001B[39;00m \u001B[38;5;21margsort\u001B[39m(a, axis\u001B[38;5;241m=\u001B[39m\u001B[38;5;241m-\u001B[39m\u001B[38;5;241m1\u001B[39m, kind\u001B[38;5;241m=\u001B[39m\u001B[38;5;28;01mNone\u001B[39;00m, order\u001B[38;5;241m=\u001B[39m\u001B[38;5;28;01mNone\u001B[39;00m):\n\u001B[0;32m   1027\u001B[0m \u001B[38;5;250m    \u001B[39m\u001B[38;5;124;03m\"\"\"\u001B[39;00m\n\u001B[0;32m   1028\u001B[0m \u001B[38;5;124;03m    Returns the indices that would sort an array.\u001B[39;00m\n\u001B[0;32m   1029\u001B[0m \n\u001B[1;32m   (...)\u001B[0m\n\u001B[0;32m   1131\u001B[0m \n\u001B[0;32m   1132\u001B[0m \u001B[38;5;124;03m    \"\"\"\u001B[39;00m\n\u001B[1;32m-> 1133\u001B[0m     \u001B[38;5;28;01mreturn\u001B[39;00m \u001B[43m_wrapfunc\u001B[49m\u001B[43m(\u001B[49m\u001B[43ma\u001B[49m\u001B[43m,\u001B[49m\u001B[43m \u001B[49m\u001B[38;5;124;43m'\u001B[39;49m\u001B[38;5;124;43margsort\u001B[39;49m\u001B[38;5;124;43m'\u001B[39;49m\u001B[43m,\u001B[49m\u001B[43m \u001B[49m\u001B[43maxis\u001B[49m\u001B[38;5;241;43m=\u001B[39;49m\u001B[43maxis\u001B[49m\u001B[43m,\u001B[49m\u001B[43m \u001B[49m\u001B[43mkind\u001B[49m\u001B[38;5;241;43m=\u001B[39;49m\u001B[43mkind\u001B[49m\u001B[43m,\u001B[49m\u001B[43m \u001B[49m\u001B[43morder\u001B[49m\u001B[38;5;241;43m=\u001B[39;49m\u001B[43morder\u001B[49m\u001B[43m)\u001B[49m\n",
      "File \u001B[1;32mE:\\Users\\Eric\\PycharmProjects\\CS303\\.venv\\Lib\\site-packages\\numpy\\core\\fromnumeric.py:56\u001B[0m, in \u001B[0;36m_wrapfunc\u001B[1;34m(obj, method, *args, **kwds)\u001B[0m\n\u001B[0;32m     54\u001B[0m bound \u001B[38;5;241m=\u001B[39m \u001B[38;5;28mgetattr\u001B[39m(obj, method, \u001B[38;5;28;01mNone\u001B[39;00m)\n\u001B[0;32m     55\u001B[0m \u001B[38;5;28;01mif\u001B[39;00m bound \u001B[38;5;129;01mis\u001B[39;00m \u001B[38;5;28;01mNone\u001B[39;00m:\n\u001B[1;32m---> 56\u001B[0m     \u001B[38;5;28;01mreturn\u001B[39;00m \u001B[43m_wrapit\u001B[49m\u001B[43m(\u001B[49m\u001B[43mobj\u001B[49m\u001B[43m,\u001B[49m\u001B[43m \u001B[49m\u001B[43mmethod\u001B[49m\u001B[43m,\u001B[49m\u001B[43m \u001B[49m\u001B[38;5;241;43m*\u001B[39;49m\u001B[43margs\u001B[49m\u001B[43m,\u001B[49m\u001B[43m \u001B[49m\u001B[38;5;241;43m*\u001B[39;49m\u001B[38;5;241;43m*\u001B[39;49m\u001B[43mkwds\u001B[49m\u001B[43m)\u001B[49m\n\u001B[0;32m     58\u001B[0m \u001B[38;5;28;01mtry\u001B[39;00m:\n\u001B[0;32m     59\u001B[0m     \u001B[38;5;28;01mreturn\u001B[39;00m bound(\u001B[38;5;241m*\u001B[39margs, \u001B[38;5;241m*\u001B[39m\u001B[38;5;241m*\u001B[39mkwds)\n",
      "File \u001B[1;32mE:\\Users\\Eric\\PycharmProjects\\CS303\\.venv\\Lib\\site-packages\\numpy\\core\\fromnumeric.py:45\u001B[0m, in \u001B[0;36m_wrapit\u001B[1;34m(obj, method, *args, **kwds)\u001B[0m\n\u001B[0;32m     43\u001B[0m \u001B[38;5;28;01mexcept\u001B[39;00m \u001B[38;5;167;01mAttributeError\u001B[39;00m:\n\u001B[0;32m     44\u001B[0m     wrap \u001B[38;5;241m=\u001B[39m \u001B[38;5;28;01mNone\u001B[39;00m\n\u001B[1;32m---> 45\u001B[0m result \u001B[38;5;241m=\u001B[39m \u001B[38;5;28;43mgetattr\u001B[39;49m\u001B[43m(\u001B[49m\u001B[43masarray\u001B[49m\u001B[43m(\u001B[49m\u001B[43mobj\u001B[49m\u001B[43m)\u001B[49m\u001B[43m,\u001B[49m\u001B[43m \u001B[49m\u001B[43mmethod\u001B[49m\u001B[43m)\u001B[49m\u001B[43m(\u001B[49m\u001B[38;5;241;43m*\u001B[39;49m\u001B[43margs\u001B[49m\u001B[43m,\u001B[49m\u001B[43m \u001B[49m\u001B[38;5;241;43m*\u001B[39;49m\u001B[38;5;241;43m*\u001B[39;49m\u001B[43mkwds\u001B[49m\u001B[43m)\u001B[49m\n\u001B[0;32m     46\u001B[0m \u001B[38;5;28;01mif\u001B[39;00m wrap:\n\u001B[0;32m     47\u001B[0m     \u001B[38;5;28;01mif\u001B[39;00m \u001B[38;5;129;01mnot\u001B[39;00m \u001B[38;5;28misinstance\u001B[39m(result, mu\u001B[38;5;241m.\u001B[39mndarray):\n",
      "\u001B[1;31mKeyboardInterrupt\u001B[0m: "
     ]
    }
   ],
   "execution_count": 30
  },
  {
   "metadata": {
    "ExecuteTime": {
     "end_time": "2024-11-10T08:23:15.398495Z",
     "start_time": "2024-11-10T08:23:15.389910Z"
    }
   },
   "cell_type": "code",
   "source": [
    "cnt = 0\n",
    "y_test = repository_data_index[:1000]\n",
    "for i in range(1000):\n",
    "    if y_pred[i].any() == y_test[i]:\n",
    "        cnt += 1\n",
    "print(cnt)"
   ],
   "outputs": [
    {
     "name": "stdout",
     "output_type": "stream",
     "text": [
      "0\n"
     ]
    }
   ],
   "execution_count": 38
  },
  {
   "metadata": {
    "ExecuteTime": {
     "end_time": "2024-11-10T08:44:53.575131Z",
     "start_time": "2024-11-10T08:42:27.082247Z"
    }
   },
   "cell_type": "code",
   "source": [
    "from tqdm import tqdm\n",
    "from sklearn.neighbors import KNeighborsClassifier\n",
    "from retrieval import Retrieval\n",
    "from util import load_data\n",
    "from sklearn.neighbors import NearestNeighbors\n",
    "from sklearn.metrics.pairwise import cosine_similarity\n",
    "\n",
    "X = load_data('./image_retrieval_repository_data.pkl')\n",
    "y = X[:4000, 1]\n",
    "X = X[:, 1:]\n",
    "print(X.shape)\n",
    "knn = NearestNeighbors(n_neighbors=5, metric='euclidean', algorithm='ball_tree')\n",
    "for i in tqdm(range(X.shape[0]), desc=\"Fitting K-NN\"):\n",
    "    knn.fit(X[:i+1])"
   ],
   "outputs": [
    {
     "name": "stdout",
     "output_type": "stream",
     "text": [
      "(5000, 256)\n"
     ]
    },
    {
     "name": "stderr",
     "output_type": "stream",
     "text": [
      "Fitting K-NN: 100%|██████████| 5000/5000 [02:26<00:00, 34.13it/s] \n"
     ]
    }
   ],
   "execution_count": 52
  },
  {
   "metadata": {
    "ExecuteTime": {
     "end_time": "2024-11-10T08:46:30.778762Z",
     "start_time": "2024-11-10T08:46:29.990573Z"
    }
   },
   "cell_type": "code",
   "source": [
    "util.save_data('knn.pkl', knn)\n",
    "X = load_data('./image_retrieval_repository_data.pkl')\n",
    "y = X[:, 1]\n",
    "X = X[:, 1:]\n",
    "X_test = X[4000:, :]\n",
    "distances, indices = knn.kneighbors(X_test)\n",
    "print(sum(sum(distances)))"
   ],
   "outputs": [
    {
     "name": "stdout",
     "output_type": "stream",
     "text": [
      "Saved successfully\n",
      "1121535.9648807435\n"
     ]
    }
   ],
   "execution_count": 55
  },
  {
   "metadata": {
    "ExecuteTime": {
     "end_time": "2024-11-10T09:16:41.436126Z",
     "start_time": "2024-11-10T09:16:20.818337Z"
    }
   },
   "cell_type": "code",
   "source": [
    "from sklearn.decomposition import PCA\n",
    "pca = PCA(n_components=50)\n",
    "pca.fit(X)\n",
    "X_pca = pca.transform(X)\n",
    "util.save_data('pca.pkl', pca)\n",
    "print(X_pca.shape)\n",
    "knn_pca = NearestNeighbors(n_neighbors=5, metric='euclidean', algorithm='ball_tree')\n",
    "for i in tqdm(range(X_pca.shape[0]), desc=\"Fitting K-NN\"):\n",
    "    knn_pca.fit(X_pca[:i+1])\n",
    "util.save_data('knn.pkl', knn_pca)"
   ],
   "outputs": [
    {
     "name": "stdout",
     "output_type": "stream",
     "text": [
      "Saved successfully\n",
      "(5000, 50)\n"
     ]
    },
    {
     "name": "stderr",
     "output_type": "stream",
     "text": [
      "Fitting K-NN: 100%|██████████| 5000/5000 [00:20<00:00, 243.24it/s]"
     ]
    },
    {
     "name": "stdout",
     "output_type": "stream",
     "text": [
      "Saved successfully\n"
     ]
    },
    {
     "name": "stderr",
     "output_type": "stream",
     "text": [
      "\n"
     ]
    }
   ],
   "execution_count": 99
  },
  {
   "metadata": {
    "ExecuteTime": {
     "end_time": "2024-11-10T09:12:52.007574Z",
     "start_time": "2024-11-10T09:12:51.862539Z"
    }
   },
   "cell_type": "code",
   "source": [
    "distances, indices = knn.kneighbors(pca.transform(X_test))\n",
    "print(sum(sum(distances)))\n"
   ],
   "outputs": [
    {
     "name": "stdout",
     "output_type": "stream",
     "text": [
      "953890.9949200222\n",
      "Saved successfully\n"
     ]
    }
   ],
   "execution_count": 96
  },
  {
   "metadata": {
    "ExecuteTime": {
     "end_time": "2024-11-10T08:59:30.408193Z",
     "start_time": "2024-11-10T08:59:30.376974Z"
    }
   },
   "cell_type": "code",
   "source": [
    "from imblearn.over_sampling import SMOTE\n",
    "\n",
    "X = load_data('./image_retrieval_repository_data.pkl')\n",
    "y = X[:, 0]\n",
    "X = X[:, 1:]\n",
    "smote = SMOTE(random_state=42)\n",
    "X_resampled, y_resampled = smote.fit_resample(X, y)\n",
    "print(X_resampled.shape)\n",
    "print(y_resampled.shape)"
   ],
   "outputs": [
    {
     "name": "stdout",
     "output_type": "stream",
     "text": [
      "(5000, 256)\n",
      "(5000,)\n"
     ]
    }
   ],
   "execution_count": 89
  },
  {
   "metadata": {
    "ExecuteTime": {
     "end_time": "2024-11-10T08:58:27.391457Z",
     "start_time": "2024-11-10T08:58:27.283044Z"
    }
   },
   "cell_type": "code",
   "source": "",
   "outputs": [
    {
     "name": "stdout",
     "output_type": "stream",
     "text": [
      "原始数据集大小: 5000\n",
      "过采样后的数据集大小: 5082\n"
     ]
    }
   ],
   "execution_count": 84
  }
 ],
 "metadata": {
  "kernelspec": {
   "display_name": "base",
   "language": "python",
   "name": "python3"
  },
  "language_info": {
   "codemirror_mode": {
    "name": "ipython",
    "version": 3
   },
   "file_extension": ".py",
   "mimetype": "text/x-python",
   "name": "python",
   "nbconvert_exporter": "python",
   "pygments_lexer": "ipython3",
   "version": "3.10.8"
  },
  "orig_nbformat": 4
 },
 "nbformat": 4,
 "nbformat_minor": 2
}
